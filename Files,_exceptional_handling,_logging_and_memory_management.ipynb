{
  "nbformat": 4,
  "nbformat_minor": 0,
  "metadata": {
    "colab": {
      "provenance": []
    },
    "kernelspec": {
      "name": "python3",
      "display_name": "Python 3"
    },
    "language_info": {
      "name": "python"
    }
  },
  "cells": [
    {
      "cell_type": "markdown",
      "source": [
        "\n",
        "\n",
        "### **1. What is the difference between interpreted and compiled languages?**\n",
        "\n",
        "* **Compiled languages** are translated into machine code by a compiler before execution, creating a standalone executable.\n",
        "* **Interpreted languages** are executed line by line at runtime by an interpreter, without a prior compilation step.\n",
        "\n",
        "### **2. What is exception handling in Python?**\n",
        "\n",
        "Exception handling is a mechanism in Python to gracefully manage runtime errors. It prevents a program from crashing by providing a way to catch and respond to unexpected events using `try` and `except` blocks.\n",
        "\n",
        "### **3. What is the purpose of the `finally` block in exception handling?**\n",
        "\n",
        "The `finally` block contains code that is guaranteed to be executed, whether or not an exception occurs. Its main purpose is for cleanup operations, like closing files, to ensure resources are properly released.\n",
        "\n",
        "### **4. What is logging in Python?**\n",
        "\n",
        "Logging is a method for recording events that occur during a program's execution. It provides a more flexible and robust alternative to `print()` statements for debugging, monitoring, and tracking application behavior.\n",
        "\n",
        "### **5. What is the significance of the `__del__` method in Python?**\n",
        "\n",
        "The `__del__` method is a destructor called just before an object is garbage collected. It's used for cleanup, but its use is discouraged due to the unpredictable timing of garbage collection.\n",
        "\n",
        "### **6. What is the difference between `import` and `from ... import` in Python?**\n",
        "\n",
        "* `import module_name` imports the entire module, requiring you to use the module name as a prefix (e.g., `math.sqrt`).\n",
        "* `from ... import` imports only a specific item, allowing you to use it directly without a prefix (e.g., `sqrt`).\n",
        "\n",
        "### **7. How can you handle multiple exceptions in Python?**\n",
        "\n",
        "You can handle multiple exceptions by using either multiple `except` blocks or a single `except` block with a tuple of exception types, like `except (ValueError, TypeError):`.\n",
        "\n",
        "### **8. What is the purpose of the `with` statement when handling files in Python?**\n",
        "\n",
        "The `with` statement is a context manager that ensures a file is automatically and safely closed after its block of code is executed, even if an error occurs. This prevents resource leaks.\n",
        "\n",
        "### **9. What is the difference between multithreading and multiprocessing?**\n",
        "\n",
        "* **Multithreading** runs multiple threads within a single process, sharing memory. It's suitable for I/O-bound tasks.\n",
        "* **Multiprocessing** runs multiple processes, each with its own memory space. It's suitable for CPU-bound tasks as it bypasses the GIL.\n",
        "\n",
        "### **10. What are the advantages of using logging in a program?**\n",
        "\n",
        "Logging provides a clear, persistent record of a program's execution, which is crucial for debugging. It also allows for flexible configuration and centralized monitoring of application events and errors.\n",
        "\n",
        "### **11. What is memory management in Python?**\n",
        "\n",
        "Memory management in Python is the automatic process of allocating and deallocating memory for objects. It uses a private heap, with garbage collection and reference counting to reclaim unused memory.\n",
        "\n",
        "### **12. What are the basic steps involved in exception handling in Python?**\n",
        "\n",
        "The basic steps are:\n",
        "1.  **`try`:** Enclose the code that might raise an exception.\n",
        "2.  **`except`:** Catch and handle the specific exception if it occurs.\n",
        "3.  **`finally`:** (Optional) Execute cleanup code regardless of exceptions.\n",
        "\n",
        "### **13. Why is memory management important in Python?**\n",
        "\n",
        "Effective memory management is crucial to prevent memory leaks and ensure the efficient use of system resources. It allows programs to run reliably without slowing down or crashing due to excessive memory consumption.\n",
        "\n",
        "### **14. What is the role of `try` and `except` in exception handling?**\n",
        "\n",
        "The `try` block marks the code segment to be monitored for errors. The `except` block defines the code to be executed when a specified error (exception) is raised within the `try` block, preventing the program from terminating.\n",
        "\n",
        "### **15. How does Python's garbage collection system work?**\n",
        "\n",
        "Python's garbage collection primarily uses reference counting. It also has a generational garbage collector to find and reclaim memory from objects involved in reference cycles, where their reference count never drops to zero.\n",
        "\n",
        "### **16. What is the purpose of the `else` block in exception handling?**\n",
        "\n",
        "The `else` block is an optional part of `try...except`. Its code is executed only if the `try` block completes without raising any exceptions, allowing for a clear separation of success and failure logic.\n",
        "\n",
        "### **17. What are the common logging levels in Python?**\n",
        "\n",
        "The common logging levels, in order of severity, are: `DEBUG`, `INFO`, `WARNING`, `ERROR`, and `CRITICAL`. They allow you to categorize and filter log messages based on their importance.\n",
        "\n",
        "### **18. What is the difference between `os.fork()` and `multiprocessing` in Python?**\n",
        "\n",
        "`os.fork()` is a low-level, Unix-specific function for creating processes. The `multiprocessing` module is a high-level, cross-platform library that provides a more convenient and robust way to manage processes and inter-process communication.\n",
        "\n",
        "### **19. What is the importance of closing a file in Python?**\n",
        "\n",
        "Closing a file is important to release the operating system resources associated with it. It also ensures that any buffered data is written to the disk, guaranteeing data integrity.\n",
        "\n",
        "### **20. What is the difference between `file.read()` and `file.readline()` in Python?**\n",
        "\n",
        "* `file.read()` reads the entire content of a file into a single string.\n",
        "* `file.readline()` reads only a single line from the file at a time.\n",
        "\n",
        "### **21. What is the `logging` module in Python used for?**\n",
        "\n",
        "The `logging` module is a standard library for creating and managing logs. It allows developers to record messages about program events, configure output destinations, and control the verbosity of logs.\n",
        "\n",
        "### **22. What is the `os` module in Python used for in file handling?**\n",
        "\n",
        "The `os` module provides functions to interact with the operating system, including file and directory operations like creating folders, listing files, and manipulating file paths.\n",
        "\n",
        "### **23. What are the challenges associated with memory management in Python?**\n",
        "\n",
        "Challenges include the Global Interpreter Lock (GIL), which limits true multithreading, and the overhead of reference cycles, which requires a separate garbage collection mechanism.\n",
        "\n",
        "### **24. How do you raise an exception manually in Python?**\n",
        "\n",
        "You can raise an exception manually using the `raise` keyword, followed by the exception type and an optional error message, for example: `raise ValueError(\"Invalid input.\")`.\n",
        "\n",
        "### **25. Why is it important to use multithreading in certain applications?**\n",
        "\n",
        "Multithreading is crucial for I/O-bound applications (e.g., networking, file operations). It allows a program to perform other tasks while a thread is waiting for an I/O operation to complete, improving responsiveness and efficiency."
      ],
      "metadata": {
        "id": "wWswQ0TiklYb"
      }
    },
    {
      "cell_type": "code",
      "source": [
        "# 1. How can you open a file for writing in Python and write a string to it?\n",
        "\n",
        "with open('my_file.txt', 'w') as file:\n",
        "    file.write('Hello, world!')\n"
      ],
      "metadata": {
        "id": "Foj5yzzkkszq"
      },
      "execution_count": 3,
      "outputs": []
    },
    {
      "cell_type": "code",
      "source": [
        "# 2. Write a Python program to read the contents of a file and print each line.\n",
        "\n",
        "with open('my_file.txt', 'r') as file:\n",
        "    for line in file:\n",
        "        print(line.strip())"
      ],
      "metadata": {
        "colab": {
          "base_uri": "https://localhost:8080/",
          "height": 0
        },
        "id": "JFbO9akplCJs",
        "outputId": "668a14fb-f17c-41ff-9dc8-51dcdb167d57"
      },
      "execution_count": 4,
      "outputs": [
        {
          "output_type": "stream",
          "name": "stdout",
          "text": [
            "Hello, world!\n"
          ]
        }
      ]
    },
    {
      "cell_type": "code",
      "source": [
        "# 3. How would you handle a case where the file doesn't exist while trying to open it for reading?\n",
        "try:\n",
        "    with open('nonexistent_file.txt', 'r') as file:\n",
        "        print(file.read())\n",
        "except FileNotFoundError:\n",
        "    print(\"Error: The file was not found.\")"
      ],
      "metadata": {
        "colab": {
          "base_uri": "https://localhost:8080/",
          "height": 0
        },
        "id": "WmSWWI81lUkV",
        "outputId": "15d421fc-ddbd-4632-b1b1-d4db21f6b94d"
      },
      "execution_count": 5,
      "outputs": [
        {
          "output_type": "stream",
          "name": "stdout",
          "text": [
            "Error: The file was not found.\n"
          ]
        }
      ]
    },
    {
      "cell_type": "code",
      "source": [
        "# 4. Write a Python script that reads from one file and writes its content to another file.\n",
        "\n",
        "# First, create the input file since it doesn't exist\n",
        "with open('input.txt', 'w') as f:\n",
        "    f.write(\"This is the content of the input file.\")\n",
        "\n",
        "with open('input.txt', 'r') as infile:\n",
        "    content = infile.read()\n",
        "\n",
        "with open('output.txt', 'w') as outfile:\n",
        "    outfile.write(content)\n",
        "\n",
        "# Optional: Print the content of the new file to verify\n",
        "with open('output.txt', 'r') as f:\n",
        "    print(f.read())"
      ],
      "metadata": {
        "colab": {
          "base_uri": "https://localhost:8080/",
          "height": 0
        },
        "id": "2fhUeyp9lg6b",
        "outputId": "0da6cc03-b949-4092-a5f4-936767e6797f"
      },
      "execution_count": 8,
      "outputs": [
        {
          "output_type": "stream",
          "name": "stdout",
          "text": [
            "This is the content of the input file.\n"
          ]
        }
      ]
    },
    {
      "cell_type": "code",
      "source": [
        "# 5. How would you catch and handle a division by zero error in Python?\n",
        "try:\n",
        "    result = 10 / 0\n",
        "except ZeroDivisionError:\n",
        "    print(\"Error: Cannot divide by zero.\")"
      ],
      "metadata": {
        "colab": {
          "base_uri": "https://localhost:8080/",
          "height": 0
        },
        "id": "gjJCOVnAl02f",
        "outputId": "7ffa6e69-7fbd-408c-c869-c0e84871d106"
      },
      "execution_count": 9,
      "outputs": [
        {
          "output_type": "stream",
          "name": "stdout",
          "text": [
            "Error: Cannot divide by zero.\n"
          ]
        }
      ]
    },
    {
      "cell_type": "code",
      "source": [
        "# 6. Write a Python program that logs an error message to a log file when a division by zero exception occurs.\n",
        "import logging\n",
        "\n",
        "logging.basicConfig(filename='app.log', level=logging.ERROR)\n",
        "\n",
        "try:\n",
        "    result = 10 / 0\n",
        "except ZeroDivisionError:\n",
        "    logging.error(\"A division by zero exception occurred.\")"
      ],
      "metadata": {
        "colab": {
          "base_uri": "https://localhost:8080/",
          "height": 0
        },
        "id": "Sv75iXZQl93F",
        "outputId": "42b8837c-64be-4fe9-9892-eb5f0997f707"
      },
      "execution_count": 10,
      "outputs": [
        {
          "output_type": "stream",
          "name": "stderr",
          "text": [
            "ERROR:root:A division by zero exception occurred.\n"
          ]
        }
      ]
    },
    {
      "cell_type": "code",
      "source": [
        "# 7. How do you log information at different levels (INFO, ERROR, WARNING) in Python using the logging module?\n",
        "import logging\n",
        "\n",
        "logging.basicConfig(level=logging.INFO)\n",
        "\n",
        "logging.info(\"This is an informational message.\")\n",
        "logging.warning(\"This is a warning message.\")\n",
        "logging.error(\"This is an error message.\")"
      ],
      "metadata": {
        "colab": {
          "base_uri": "https://localhost:8080/",
          "height": 0
        },
        "id": "sDz3cbYFmL_v",
        "outputId": "4ed79f7b-d594-4068-89fa-8f39aa1115b6"
      },
      "execution_count": 11,
      "outputs": [
        {
          "output_type": "stream",
          "name": "stderr",
          "text": [
            "WARNING:root:This is a warning message.\n",
            "ERROR:root:This is an error message.\n"
          ]
        }
      ]
    },
    {
      "cell_type": "code",
      "source": [
        "# 8. Write a program to handle a file opening error using exception handling.\n",
        "try:\n",
        "    with open('nonexistent_file.txt', 'r') as file:\n",
        "        content = file.read()\n",
        "except FileNotFoundError:\n",
        "    print(\"The specified file does not exist.\")"
      ],
      "metadata": {
        "colab": {
          "base_uri": "https://localhost:8080/",
          "height": 0
        },
        "id": "MAE373dumRz5",
        "outputId": "4256b3dd-c920-4d2f-a754-c01a453e88fd"
      },
      "execution_count": 12,
      "outputs": [
        {
          "output_type": "stream",
          "name": "stdout",
          "text": [
            "The specified file does not exist.\n"
          ]
        }
      ]
    },
    {
      "cell_type": "code",
      "source": [
        "# 9. How can you read a file line by line and store its content in a list in Python?\n",
        "with open('my_file.txt', 'r') as file:\n",
        "    lines_list = file.readlines()\n",
        "print(lines_list)"
      ],
      "metadata": {
        "colab": {
          "base_uri": "https://localhost:8080/",
          "height": 0
        },
        "id": "e8GWnSIPmXZN",
        "outputId": "7ff764ac-78ab-4fdc-a557-22366fe94cfa"
      },
      "execution_count": 13,
      "outputs": [
        {
          "output_type": "stream",
          "name": "stdout",
          "text": [
            "['Hello, world!']\n"
          ]
        }
      ]
    },
    {
      "cell_type": "code",
      "source": [
        "# 10. How can you append data to an existing file in Python?\n",
        "with open('my_file.txt', 'a') as file:\n",
        "    file.write('\\nThis is new data.')"
      ],
      "metadata": {
        "id": "bAEtofRwmc5-"
      },
      "execution_count": 15,
      "outputs": []
    },
    {
      "cell_type": "code",
      "source": [
        "# 11. Write a Python program that uses a try-except block to handle an error when attempting to access a dictionary key that doesn't exist.\n",
        "my_dict = {'name': 'Alice', 'age': 30}\n",
        "\n",
        "try:\n",
        "    value = my_dict['city']\n",
        "    print(value)\n",
        "except KeyError:\n",
        "    print(\"Error: The key does not exist in the dictionary.\")"
      ],
      "metadata": {
        "colab": {
          "base_uri": "https://localhost:8080/",
          "height": 0
        },
        "id": "0eRTtQOWmlou",
        "outputId": "e4a51159-8c8a-41d0-998f-45fea59460f3"
      },
      "execution_count": 16,
      "outputs": [
        {
          "output_type": "stream",
          "name": "stdout",
          "text": [
            "Error: The key does not exist in the dictionary.\n"
          ]
        }
      ]
    },
    {
      "cell_type": "code",
      "source": [
        "# 12. Write a program that demonstrates using multiple except blocks to handle different types of exceptions.\n",
        "try:\n",
        "    number = int(input(\"Enter a number: \"))\n",
        "    result = 10 / number\n",
        "except ValueError:\n",
        "    print(\"Error: Invalid input. Please enter a valid number.\")\n",
        "except ZeroDivisionError:\n",
        "    print(\"Error: Cannot divide by zero.\")"
      ],
      "metadata": {
        "colab": {
          "base_uri": "https://localhost:8080/",
          "height": 0
        },
        "id": "Tl0qF8QumrAF",
        "outputId": "f2cb7e71-5f3c-406b-cbdc-15a035086523"
      },
      "execution_count": 17,
      "outputs": [
        {
          "name": "stdout",
          "output_type": "stream",
          "text": [
            "Enter a number: 23\n"
          ]
        }
      ]
    },
    {
      "cell_type": "code",
      "source": [
        "# 13. How would you check if a file exists before attempting to read it in Python?\n",
        "\n",
        "import os\n",
        "\n",
        "if os.path.exists('my_file.txt'):\n",
        "    with open('my_file.txt', 'r') as file:\n",
        "        print(file.read())\n",
        "else:\n",
        "    print(\"The file does not exist.\")"
      ],
      "metadata": {
        "colab": {
          "base_uri": "https://localhost:8080/",
          "height": 0
        },
        "id": "5HCWpiIxmzc5",
        "outputId": "4785dd42-67e5-4812-c64b-9530b1622a25"
      },
      "execution_count": 18,
      "outputs": [
        {
          "output_type": "stream",
          "name": "stdout",
          "text": [
            "Hello, world!\n",
            "This is new data.\n",
            "This is new data.\n"
          ]
        }
      ]
    },
    {
      "cell_type": "code",
      "source": [
        "# 14. Write a program that uses the logging module to log both informational and error messages.\n",
        "\n",
        "import logging\n",
        "\n",
        "logging.basicConfig(level=logging.INFO, format='%(levelname)s - %(message)s')\n",
        "\n",
        "logging.info(\"Starting the program.\")\n",
        "try:\n",
        "    result = 10 / 0\n",
        "except ZeroDivisionError:\n",
        "    logging.error(\"A division by zero error occurred.\")\n",
        "logging.info(\"Program finished.\")"
      ],
      "metadata": {
        "colab": {
          "base_uri": "https://localhost:8080/",
          "height": 0
        },
        "id": "HLTKsw8zm-J7",
        "outputId": "ed86d57d-758e-4525-e610-ff77179de612"
      },
      "execution_count": 19,
      "outputs": [
        {
          "output_type": "stream",
          "name": "stderr",
          "text": [
            "ERROR:root:A division by zero error occurred.\n"
          ]
        }
      ]
    },
    {
      "cell_type": "code",
      "source": [
        "# 15. Write a Python program that prints the content of a file and handles the case when the file is empty.\n",
        "import os\n",
        "\n",
        "file_path = 'empty_file.txt'\n",
        "\n",
        "# Create an empty file for demonstration\n",
        "with open(file_path, 'w') as f:\n",
        "    pass\n",
        "\n",
        "if os.path.getsize(file_path) == 0:\n",
        "    print(\"The file is empty.\")\n",
        "else:\n",
        "    with open(file_path, 'r') as file:\n",
        "        print(file.read())"
      ],
      "metadata": {
        "colab": {
          "base_uri": "https://localhost:8080/",
          "height": 0
        },
        "id": "KfPaLcLWnIE4",
        "outputId": "142e9f50-7d25-42ec-d8a2-e25d6adadfc7"
      },
      "execution_count": 21,
      "outputs": [
        {
          "output_type": "stream",
          "name": "stdout",
          "text": [
            "The file is empty.\n"
          ]
        }
      ]
    },
    {
      "cell_type": "code",
      "metadata": {
        "colab": {
          "base_uri": "https://localhost:8080/",
          "height": 0
        },
        "id": "586ecdbf",
        "outputId": "903f3142-e446-4d81-9c39-fe996d01f46d"
      },
      "source": [
        "!pip install memory_profiler"
      ],
      "execution_count": 24,
      "outputs": [
        {
          "output_type": "stream",
          "name": "stdout",
          "text": [
            "Requirement already satisfied: memory_profiler in /usr/local/lib/python3.11/dist-packages (0.61.0)\n",
            "Requirement already satisfied: psutil in /usr/local/lib/python3.11/dist-packages (from memory_profiler) (5.9.5)\n"
          ]
        }
      ]
    },
    {
      "cell_type": "code",
      "source": [
        "# 16. Demonstrate how to use memory profiling to check the memory usage of a small program.\n",
        "from memory_profiler import profile\n",
        "\n",
        "@profile\n",
        "def my_function():\n",
        "    a = [i for i in range(1000000)]\n",
        "    b = [j * 2 for j in a]\n",
        "    del a\n",
        "    return b\n",
        "\n",
        "if __name__ == '__main__':\n",
        "    my_function()"
      ],
      "metadata": {
        "colab": {
          "base_uri": "https://localhost:8080/",
          "height": 0
        },
        "id": "lEZ9O1alnvFD",
        "outputId": "3abff1d8-7b26-48a1-e647-251c26e1084c"
      },
      "execution_count": 27,
      "outputs": [
        {
          "output_type": "stream",
          "name": "stdout",
          "text": [
            "ERROR: Could not find file /tmp/ipython-input-1775879539.py\n"
          ]
        }
      ]
    },
    {
      "cell_type": "code",
      "source": [
        "# 17. Write a Python program to create and write a list of numbers to a file, one number per line.\n",
        "numbers = [1, 2, 3, 4, 5]\n",
        "with open('numbers.txt', 'w') as file:\n",
        "    for num in numbers:\n",
        "        file.write(str(num) + '\\n')"
      ],
      "metadata": {
        "id": "BaBGKBG2n0dM"
      },
      "execution_count": 29,
      "outputs": []
    },
    {
      "cell_type": "code",
      "source": [
        "# 18. How would you implement a basic logging setup that logs to a file with rotation after 1MB?\n",
        "import logging\n",
        "from logging.handlers import RotatingFileHandler\n",
        "\n",
        "# Set up a rotating file handler with a max size of 1MB and 3 backup files\n",
        "handler = RotatingFileHandler('app.log', maxBytes=1024*1024, backupCount=3)\n",
        "logging.basicConfig(level=logging.INFO, handlers=[handler])\n",
        "\n",
        "logging.info(\"This is a log message that will be rotated.\")"
      ],
      "metadata": {
        "id": "Sr2HPgFNn6JV"
      },
      "execution_count": 30,
      "outputs": []
    },
    {
      "cell_type": "code",
      "source": [
        "# 19. Write a program that handles both IndexError and KeyError using a try-except block.\n",
        "my_list = [1, 2, 3]\n",
        "my_dict = {'a': 1}\n",
        "\n",
        "try:\n",
        "    # This might raise an IndexError\n",
        "    print(my_list[3])\n",
        "    # This might raise a KeyError\n",
        "    print(my_dict['b'])\n",
        "except (IndexError, KeyError) as e:\n",
        "    print(f\"An error occurred: {e}\")"
      ],
      "metadata": {
        "colab": {
          "base_uri": "https://localhost:8080/",
          "height": 0
        },
        "id": "4UouIg1MoAXC",
        "outputId": "6c38ee90-ce86-464f-d343-5d9aa1deae33"
      },
      "execution_count": 31,
      "outputs": [
        {
          "output_type": "stream",
          "name": "stdout",
          "text": [
            "An error occurred: list index out of range\n"
          ]
        }
      ]
    },
    {
      "cell_type": "code",
      "source": [
        "# 20. How would you open a file and read its contents using a context manager in Python?\n",
        "\n",
        "with open('my_file.txt', 'r') as file:\n",
        "    content = file.read()\n",
        "    print(content)"
      ],
      "metadata": {
        "colab": {
          "base_uri": "https://localhost:8080/",
          "height": 0
        },
        "id": "WuvzLbmeoKXz",
        "outputId": "2b66a5ae-e1fc-487c-d238-0ddeb53cc91f"
      },
      "execution_count": 32,
      "outputs": [
        {
          "output_type": "stream",
          "name": "stdout",
          "text": [
            "Hello, world!\n",
            "This is new data.\n",
            "This is new data.\n"
          ]
        }
      ]
    },
    {
      "cell_type": "code",
      "source": [
        "# 21. Write a Python program that reads a file and prints the number of occurrences of a specific word.\n",
        "\n",
        "word_to_find = 'Python'\n",
        "count = 0\n",
        "\n",
        "with open('my_file.txt', 'r') as file:\n",
        "    content = file.read()\n",
        "    count = content.lower().count(word_to_find.lower())\n",
        "\n",
        "print(f\"The word '{word_to_find}' appears {count} times.\")"
      ],
      "metadata": {
        "colab": {
          "base_uri": "https://localhost:8080/",
          "height": 0
        },
        "id": "kl79dxhroPPO",
        "outputId": "0689f875-e511-40ea-eac9-a9fc008fbae0"
      },
      "execution_count": 33,
      "outputs": [
        {
          "output_type": "stream",
          "name": "stdout",
          "text": [
            "The word 'Python' appears 0 times.\n"
          ]
        }
      ]
    },
    {
      "cell_type": "code",
      "source": [
        "# 22. How can you check if a file is empty before attempting to read its contents?\n",
        "\n",
        "import os\n",
        "\n",
        "if os.path.getsize('my_file.txt') == 0:\n",
        "    print(\"The file is empty.\")"
      ],
      "metadata": {
        "id": "Q0fQGOluoUk6"
      },
      "execution_count": 34,
      "outputs": []
    },
    {
      "cell_type": "code",
      "source": [
        "# 23. Write a Python program that writes to a log file when an error occurs during file handling.\n",
        "import logging\n",
        "\n",
        "logging.basicConfig(filename='file_errors.log', level=logging.ERROR)\n",
        "\n",
        "try:\n",
        "    with open('nonexistent.txt', 'r') as file:\n",
        "        file.read()\n",
        "except FileNotFoundError as e:\n",
        "    logging.error(f\"Failed to open file: {e}\")"
      ],
      "metadata": {
        "colab": {
          "base_uri": "https://localhost:8080/",
          "height": 0
        },
        "id": "Gc5xZCBAoZjN",
        "outputId": "a7761f3d-7ef5-48da-d68c-757b1615f58d"
      },
      "execution_count": 35,
      "outputs": [
        {
          "output_type": "stream",
          "name": "stderr",
          "text": [
            "ERROR:root:Failed to open file: [Errno 2] No such file or directory: 'nonexistent.txt'\n"
          ]
        }
      ]
    }
  ]
}